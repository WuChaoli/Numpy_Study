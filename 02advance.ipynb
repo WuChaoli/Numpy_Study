{
 "cells": [
  {
   "cell_type": "markdown",
   "id": "9109739d",
   "metadata": {},
   "source": [
    "### 一维索引和二维索引"
   ]
  },
  {
   "cell_type": "code",
   "execution_count": 13,
   "id": "c31fb07b-72af-4faa-92f5-d4a7de984eb1",
   "metadata": {},
   "outputs": [
    {
     "name": "stdout",
     "output_type": "stream",
     "text": [
      "[ 0  1  2  3  4  5  6  7  8  9 10 11]\n",
      "一维索引：\n",
      "[1 2 3]\n",
      "二维索引：\n",
      "[[1 2]\n",
      " [3 4]]\n"
     ]
    }
   ],
   "source": [
    "import numpy as np\n",
    "arr_a = np.arange(12)\n",
    "print(arr_a)\n",
    "print('一维索引：')\n",
    "arr_b = arr_a[[1,2,3]]\n",
    "print(arr_b)\n",
    "print('二维索引：')\n",
    "arr_c = arr_a[[[1,2],[3,4]]]\n",
    "print(arr_c)"
   ]
  },
  {
   "cell_type": "markdown",
   "id": "73271a05",
   "metadata": {},
   "source": [
    "### 布尔索引"
   ]
  },
  {
   "cell_type": "code",
   "execution_count": 16,
   "id": "9f106db8",
   "metadata": {},
   "outputs": [
    {
     "name": "stdout",
     "output_type": "stream",
     "text": [
      "arr_d:\n",
      "[[ 0  1  2  3  4]\n",
      " [ 5  6  7  8  9]\n",
      " [10 11 12 13 14]]\n",
      "\n",
      "arr_d > 6\n",
      "[[False False False False False]\n",
      " [False False  True  True  True]\n",
      " [ True  True  True  True  True]]\n",
      "\n",
      "arr_d[bool_a]\n",
      "[ 7  8  9 10 11 12 13 14]\n"
     ]
    }
   ],
   "source": [
    "arr_d = np.arange(15).reshape(3,5)\n",
    "print('arr_d:')\n",
    "print(arr_d)\n",
    "\n",
    "bool_a = arr_d > 6\n",
    "print('\\narr_d > 6')\n",
    "print(bool_a)\n",
    "\n",
    "arr_e = arr_d[bool_a]\n",
    "print('\\narr_d[bool_a]')\n",
    "print(arr_e) #输出的是一个一维数组，为什么？"
   ]
  },
  {
   "cell_type": "markdown",
   "id": "a8f86f27",
   "metadata": {},
   "source": [
    "### 布尔切片"
   ]
  },
  {
   "cell_type": "code",
   "execution_count": 21,
   "id": "c3a8bf28",
   "metadata": {},
   "outputs": [
    {
     "name": "stdout",
     "output_type": "stream",
     "text": [
      "arr_d\n",
      "[[ 0  1  2  3  4]\n",
      " [ 5  6  7  8  9]\n",
      " [10 11 12 13 14]]\n",
      "\n",
      "行切片：\n",
      "[[ 5  6  7  8  9]\n",
      " [10 11 12 13 14]]\n",
      "\n",
      "列切片：\n",
      "[[ 0  2  4]\n",
      " [ 5  7  9]\n",
      " [10 12 14]]\n"
     ]
    }
   ],
   "source": [
    "arr_d = np.arange(15).reshape(3,5)\n",
    "split_rows = np.array([False, True, True])\n",
    "split_cols = np.array([True, False, True, False, True])\n",
    "\n",
    "print('arr_d')\n",
    "print(arr_d)\n",
    "\n",
    "print('\\n行切片：')\n",
    "print(arr_d[split_rows,:])\n",
    "\n",
    "print('\\n列切片：')\n",
    "print(arr_d[:,split_cols])\n"
   ]
  },
  {
   "cell_type": "markdown",
   "id": "188e9c6b",
   "metadata": {},
   "source": [
    "### 自动补充"
   ]
  },
  {
   "cell_type": "code",
   "execution_count": 22,
   "id": "dea1f6ea",
   "metadata": {},
   "outputs": [
    {
     "name": "stdout",
     "output_type": "stream",
     "text": [
      "[[[ 0  1  2]\n",
      "  [ 3  4  5]\n",
      "  [ 6  7  8]\n",
      "  [ 9 10 11]\n",
      "  [12 13 14]\n",
      "  [15 16 17]\n",
      "  [18 19 20]\n",
      "  [21 22 23]\n",
      "  [24 25 26]]\n",
      "\n",
      " [[27 28 29]\n",
      "  [30 31 32]\n",
      "  [33 34 35]\n",
      "  [36 37 38]\n",
      "  [39 40 41]\n",
      "  [42 43 44]\n",
      "  [45 46 47]\n",
      "  [48 49 50]\n",
      "  [51 52 53]]\n",
      "\n",
      " [[54 55 56]\n",
      "  [57 58 59]\n",
      "  [60 61 62]\n",
      "  [63 64 65]\n",
      "  [66 67 68]\n",
      "  [69 70 71]\n",
      "  [72 73 74]\n",
      "  [75 76 77]\n",
      "  [78 79 80]]]\n"
     ]
    }
   ],
   "source": [
    "arr_f = np.arange(81).reshape(3,-1,3)\n",
    "print(arr_f)"
   ]
  },
  {
   "cell_type": "markdown",
   "id": "d50b6c86",
   "metadata": {},
   "source": [
    "### 排序"
   ]
  },
  {
   "cell_type": "code",
   "execution_count": 25,
   "id": "3d7ff381",
   "metadata": {},
   "outputs": [
    {
     "name": "stdout",
     "output_type": "stream",
     "text": [
      "[1 2 3 4 5 6 7 8]\n"
     ]
    }
   ],
   "source": [
    "arr_g = np.array([2, 1, 5, 3, 7, 4, 6, 8])\n",
    "print(np.sort(arr_g))\n"
   ]
  },
  {
   "cell_type": "markdown",
   "id": "60f032f5",
   "metadata": {},
   "source": [
    "### 随机"
   ]
  },
  {
   "cell_type": "code",
   "execution_count": 35,
   "id": "4f8ef030",
   "metadata": {},
   "outputs": [
    {
     "name": "stdout",
     "output_type": "stream",
     "text": [
      "[[0.65565853 0.08374659 0.04805924]\n",
      " [0.22570408 0.82563941 0.94802527]\n",
      " [0.66124775 0.23497879 0.87674912]]\n",
      "[[1 2 2 3]\n",
      " [4 0 3 1]]\n"
     ]
    }
   ],
   "source": [
    "arr_h = np.random.random([3,3])\n",
    "print(arr_h)\n",
    "rng = np.random.default_rng()\n",
    "arr_i = rng.integers(5,size=(2,4))\n",
    "print(arr_i)"
   ]
  },
  {
   "cell_type": "markdown",
   "id": "543eaea8",
   "metadata": {},
   "source": [
    "### 反转"
   ]
  },
  {
   "cell_type": "code",
   "execution_count": 43,
   "id": "0ae702c2",
   "metadata": {},
   "outputs": [
    {
     "name": "stdout",
     "output_type": "stream",
     "text": [
      "[[0 2 0]\n",
      " [1 0 0]\n",
      " [4 1 0]\n",
      " [2 2 4]\n",
      " [2 4 4]]\n",
      "\n",
      " flip:\n",
      "[[0 2 0]\n",
      " [0 0 1]\n",
      " [0 1 4]\n",
      " [4 2 2]\n",
      " [4 4 2]]\n"
     ]
    }
   ],
   "source": [
    "rng = np.random.default_rng()\n",
    "arr_j = rng.integers(5,size=(5,3))\n",
    "print(arr_j)\n",
    "arr_j_flip = np.flip(arr_j,axis=1)\n",
    "print('\\n flip:')\n",
    "print(arr_j_flip)"
   ]
  },
  {
   "cell_type": "code",
   "execution_count": 44,
   "id": "f0a2e4ec",
   "metadata": {},
   "outputs": [],
   "source": [
    "### 降纬"
   ]
  },
  {
   "cell_type": "code",
   "execution_count": 45,
   "id": "b588269b",
   "metadata": {},
   "outputs": [],
   "source": [
    "# a.flatten()和a.ravel()的区别：flatten()不会改变原数组，ravel()会改变"
   ]
  },
  {
   "cell_type": "code",
   "execution_count": 47,
   "id": "c1371d9f",
   "metadata": {},
   "outputs": [
    {
     "name": "stdout",
     "output_type": "stream",
     "text": [
      "Help on built-in function max in module builtins:\n",
      "\n",
      "max(...)\n",
      "    max(iterable, *[, default=obj, key=func]) -> value\n",
      "    max(arg1, arg2, *args, *[, key=func]) -> value\n",
      "    \n",
      "    With a single iterable argument, return its biggest item. The\n",
      "    default keyword-only argument specifies an object to return if\n",
      "    the provided iterable is empty.\n",
      "    With two or more arguments, return the largest argument.\n",
      "\n"
     ]
    }
   ],
   "source": [
    "help(max)"
   ]
  },
  {
   "cell_type": "code",
   "execution_count": 54,
   "id": "c00bcd68",
   "metadata": {},
   "outputs": [
    {
     "name": "stdout",
     "output_type": "stream",
     "text": [
      "[6 3 9 4 2 3 3 0 8 6]\n"
     ]
    },
    {
     "data": {
      "text/plain": [
       "[<matplotlib.lines.Line2D at 0x7f8e78669d10>]"
      ]
     },
     "execution_count": 54,
     "metadata": {},
     "output_type": "execute_result"
    },
    {
     "data": {
      "image/png": "[encoded data removed]",
      "text/plain": [
       "<Figure size 640x480 with 1 Axes>"
      ]
     },
     "metadata": {},
     "output_type": "display_data"
    }
   ],
   "source": [
    "rng = np.random.default_rng()\n",
    "arr_j = rng.integers(10,size=10)\n",
    "print(arr_j)\n",
    "import matplotlib.pyplot as plt\n",
    "plt.plot(arr_j)"
   ]
  },
  {
   "cell_type": "markdown",
   "id": "78eb8d39",
   "metadata": {},
   "source": [
    "### 对角线函数"
   ]
  },
  {
   "cell_type": "code",
   "execution_count": 64,
   "id": "b249ce79",
   "metadata": {},
   "outputs": [
    {
     "name": "stdout",
     "output_type": "stream",
     "text": [
      "[1 4]\n"
     ]
    }
   ],
   "source": [
    "arr_k = np.array([[1,2],[3,4]])\n",
    "print(np.diag(arr_k))\n",
    "# 还有eye函数"
   ]
  }
 ],
 "metadata": {
  "kernelspec": {
   "display_name": "Python 3 (ipykernel)",
   "language": "python",
   "name": "python3"
  },
  "language_info": {
   "codemirror_mode": {
    "name": "ipython",
    "version": 3
   },
   "file_extension": ".py",
   "mimetype": "text/x-python",
   "name": "python",
   "nbconvert_exporter": "python",
   "pygments_lexer": "ipython3",
   "version": "3.11.5"
  }
 },
 "nbformat": 4,
 "nbformat_minor": 5
}
