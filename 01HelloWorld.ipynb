{
 "cells": [
  {
   "cell_type": "code",
   "execution_count": 2,
   "id": "165f07b4-bff4-451f-b7ed-950264700016",
   "metadata": {},
   "outputs": [],
   "source": [
    "import numpy as np"
   ]
  },
  {
   "cell_type": "code",
   "execution_count": 7,
   "id": "cd410dac-9b47-4cc6-a0ae-8af9e7449db7",
   "metadata": {},
   "outputs": [
    {
     "name": "stdout",
     "output_type": "stream",
     "text": [
      "[[ 0  1  2  3  4]\n",
      " [ 5  6  7  8  9]\n",
      " [10 11 12 13 14]]\n"
     ]
    }
   ],
   "source": [
    "a = np.arange(15).reshape(3,5)\n",
    "print(a)"
   ]
  },
  {
   "cell_type": "code",
   "execution_count": 8,
   "id": "d5111b2c-da07-4af7-9373-7b0989101d2d",
   "metadata": {},
   "outputs": [
    {
     "name": "stdout",
     "output_type": "stream",
     "text": [
      "(3, 5)\n"
     ]
    }
   ],
   "source": [
    "print(a.shape)"
   ]
  },
  {
   "cell_type": "code",
   "execution_count": 12,
   "id": "85ae2b1e-983c-4916-ad31-daf3cad75826",
   "metadata": {},
   "outputs": [
    {
     "name": "stdout",
     "output_type": "stream",
     "text": [
      "2\n"
     ]
    }
   ],
   "source": [
    "print(a.ndim)"
   ]
  },
  {
   "cell_type": "code",
   "execution_count": 13,
   "id": "c12b0c62-30b5-43ea-8a64-6bda068e16ed",
   "metadata": {},
   "outputs": [
    {
     "name": "stdout",
     "output_type": "stream",
     "text": [
      "int64\n"
     ]
    }
   ],
   "source": [
    "print(a.dtype)"
   ]
  },
  {
   "cell_type": "code",
   "execution_count": 14,
   "id": "1645a62d-3abf-40d6-8bbe-e31724150d44",
   "metadata": {},
   "outputs": [
    {
     "name": "stdout",
     "output_type": "stream",
     "text": [
      "int64\n"
     ]
    }
   ],
   "source": [
    "print(a.dtype.name)"
   ]
  },
  {
   "cell_type": "code",
   "execution_count": 15,
   "id": "79060b1e-4128-4efb-9253-a2ff3cb67120",
   "metadata": {},
   "outputs": [
    {
     "data": {
      "text/plain": [
       "8"
      ]
     },
     "execution_count": 15,
     "metadata": {},
     "output_type": "execute_result"
    }
   ],
   "source": [
    "a.itemsize #单个元素的字节大小"
   ]
  },
  {
   "cell_type": "code",
   "execution_count": 16,
   "id": "8ec232c3-b236-45d0-91b8-1bcae2b34d64",
   "metadata": {},
   "outputs": [
    {
     "data": {
      "text/plain": [
       "15"
      ]
     },
     "execution_count": 16,
     "metadata": {},
     "output_type": "execute_result"
    }
   ],
   "source": [
    "a.size"
   ]
  },
  {
   "cell_type": "code",
   "execution_count": 17,
   "id": "e4ed831f-84f3-4d58-bf20-e202cf6c5bb6",
   "metadata": {},
   "outputs": [
    {
     "data": {
      "text/plain": [
       "numpy.ndarray"
      ]
     },
     "execution_count": 17,
     "metadata": {},
     "output_type": "execute_result"
    }
   ],
   "source": [
    "type(a)"
   ]
  },
  {
   "cell_type": "code",
   "execution_count": 18,
   "id": "149b394a-1ff0-4232-9b29-218d62decbb0",
   "metadata": {},
   "outputs": [
    {
     "data": {
      "text/plain": [
       "array([0, 1, 2, 3, 4, 5])"
      ]
     },
     "execution_count": 18,
     "metadata": {},
     "output_type": "execute_result"
    }
   ],
   "source": [
    "arr = np.array([0,1,2,3,4,5])\n",
    "arr"
   ]
  },
  {
   "cell_type": "code",
   "execution_count": 20,
   "id": "772cb830-92fb-4d19-8a68-3fc398f6cb14",
   "metadata": {},
   "outputs": [
    {
     "data": {
      "text/plain": [
       "array([[1.5, 1. , 4. ],\n",
       "       [4. , 2. , 5. ]])"
      ]
     },
     "execution_count": 20,
     "metadata": {},
     "output_type": "execute_result"
    }
   ],
   "source": [
    "arr1 = np.array([(1.5,1,4),(4,2,5)])\n",
    "arr1"
   ]
  },
  {
   "cell_type": "code",
   "execution_count": 21,
   "id": "8144878e-d60c-4f08-b866-c45b521cd63b",
   "metadata": {},
   "outputs": [
    {
     "data": {
      "text/plain": [
       "array([[1, 3, 2],\n",
       "       [3, 6, 2]])"
      ]
     },
     "execution_count": 21,
     "metadata": {},
     "output_type": "execute_result"
    }
   ],
   "source": [
    "arr2 = np.array([[1.5,3.5,2.5],[3.5,6.5,2.5]],dtype = int)\n",
    "arr2"
   ]
  },
  {
   "cell_type": "code",
   "execution_count": 23,
   "id": "64b4e43c-0b87-4004-b675-e789b17b7021",
   "metadata": {},
   "outputs": [
    {
     "data": {
      "text/plain": [
       "array([[0., 0.],\n",
       "       [0., 0.],\n",
       "       [0., 0.]])"
      ]
     },
     "execution_count": 23,
     "metadata": {},
     "output_type": "execute_result"
    }
   ],
   "source": [
    "arr_zeros = np.zeros((3,2)) # np.zeros(3,2)这个写法是错误的\n",
    "arr_zeros"
   ]
  },
  {
   "cell_type": "code",
   "execution_count": 24,
   "id": "a54281bb-6b9d-466c-bec8-a0b2d7ac0ab8",
   "metadata": {},
   "outputs": [
    {
     "data": {
      "text/plain": [
       "array([[1., 1.],\n",
       "       [1., 1.],\n",
       "       [1., 1.]])"
      ]
     },
     "execution_count": 24,
     "metadata": {},
     "output_type": "execute_result"
    }
   ],
   "source": [
    "arr_ones = np.ones((3,2))\n",
    "arr_ones"
   ]
  },
  {
   "cell_type": "code",
   "execution_count": 27,
   "id": "881a23c0-4903-4584-929f-c30f612c1fd6",
   "metadata": {},
   "outputs": [
    {
     "data": {
      "text/plain": [
       "array([[1., 1.],\n",
       "       [1., 1.],\n",
       "       [1., 1.]])"
      ]
     },
     "execution_count": 27,
     "metadata": {},
     "output_type": "execute_result"
    }
   ],
   "source": [
    "arr_empty = np.empty((3,2))\n",
    "arr_empty"
   ]
  },
  {
   "cell_type": "code",
   "execution_count": 31,
   "id": "bc7e2243-ccc4-40b0-8120-e22fae2e972a",
   "metadata": {},
   "outputs": [
    {
     "data": {
      "text/plain": [
       "array([5, 6, 7, 8, 9])"
      ]
     },
     "execution_count": 31,
     "metadata": {},
     "output_type": "execute_result"
    }
   ],
   "source": [
    "arr_arange = np.arange(5,10,1) #[起始数字,末尾数字)，步长\n",
    "arr_arange"
   ]
  },
  {
   "cell_type": "code",
   "execution_count": 32,
   "id": "c8c2ea5e-61d1-42a5-94e6-09ddb242f354",
   "metadata": {},
   "outputs": [
    {
     "data": {
      "text/plain": [
       "array([5. , 5.5, 6. , 6.5, 7. , 7.5, 8. , 8.5, 9. , 9.5])"
      ]
     },
     "execution_count": 32,
     "metadata": {},
     "output_type": "execute_result"
    }
   ],
   "source": [
    "arr_arange_float = np.arange(5,10,0.5) #接受浮点数\n",
    "arr_arange_float"
   ]
  },
  {
   "cell_type": "code",
   "execution_count": 36,
   "id": "dc30aa35-170c-4b9f-ba6d-82a0a51b1f7b",
   "metadata": {},
   "outputs": [
    {
     "data": {
      "text/plain": [
       "array([ 0.00000000e+00,  6.34239197e-02,  1.26592454e-01,  1.89251244e-01,\n",
       "        2.51147987e-01,  3.12033446e-01,  3.71662456e-01,  4.29794912e-01,\n",
       "        4.86196736e-01,  5.40640817e-01,  5.92907929e-01,  6.42787610e-01,\n",
       "        6.90079011e-01,  7.34591709e-01,  7.76146464e-01,  8.14575952e-01,\n",
       "        8.49725430e-01,  8.81453363e-01,  9.09631995e-01,  9.34147860e-01,\n",
       "        9.54902241e-01,  9.71811568e-01,  9.84807753e-01,  9.93838464e-01,\n",
       "        9.98867339e-01,  9.99874128e-01,  9.96854776e-01,  9.89821442e-01,\n",
       "        9.78802446e-01,  9.63842159e-01,  9.45000819e-01,  9.22354294e-01,\n",
       "        8.95993774e-01,  8.66025404e-01,  8.32569855e-01,  7.95761841e-01,\n",
       "        7.55749574e-01,  7.12694171e-01,  6.66769001e-01,  6.18158986e-01,\n",
       "        5.67059864e-01,  5.13677392e-01,  4.58226522e-01,  4.00930535e-01,\n",
       "        3.42020143e-01,  2.81732557e-01,  2.20310533e-01,  1.58001396e-01,\n",
       "        9.50560433e-02,  3.17279335e-02, -3.17279335e-02, -9.50560433e-02,\n",
       "       -1.58001396e-01, -2.20310533e-01, -2.81732557e-01, -3.42020143e-01,\n",
       "       -4.00930535e-01, -4.58226522e-01, -5.13677392e-01, -5.67059864e-01,\n",
       "       -6.18158986e-01, -6.66769001e-01, -7.12694171e-01, -7.55749574e-01,\n",
       "       -7.95761841e-01, -8.32569855e-01, -8.66025404e-01, -8.95993774e-01,\n",
       "       -9.22354294e-01, -9.45000819e-01, -9.63842159e-01, -9.78802446e-01,\n",
       "       -9.89821442e-01, -9.96854776e-01, -9.99874128e-01, -9.98867339e-01,\n",
       "       -9.93838464e-01, -9.84807753e-01, -9.71811568e-01, -9.54902241e-01,\n",
       "       -9.34147860e-01, -9.09631995e-01, -8.81453363e-01, -8.49725430e-01,\n",
       "       -8.14575952e-01, -7.76146464e-01, -7.34591709e-01, -6.90079011e-01,\n",
       "       -6.42787610e-01, -5.92907929e-01, -5.40640817e-01, -4.86196736e-01,\n",
       "       -4.29794912e-01, -3.71662456e-01, -3.12033446e-01, -2.51147987e-01,\n",
       "       -1.89251244e-01, -1.26592454e-01, -6.34239197e-02, -2.44929360e-16])"
      ]
     },
     "execution_count": 36,
     "metadata": {},
     "output_type": "execute_result"
    }
   ],
   "source": [
    "from numpy import pi\n",
    "arr_lin = np.linspace(0,5,5) #[起始数字，末尾数字]，个数\n",
    "arr_pi = np.linspace(0,2*pi, 100)\n",
    "arr_f = np.sin(arr_pi)\n",
    "arr_f"
   ]
  },
  {
   "cell_type": "code",
   "execution_count": 38,
   "id": "10a345a2-f363-486e-a797-679ac29850a5",
   "metadata": {},
   "outputs": [
    {
     "data": {
      "text/plain": [
       "array([ True,  True,  True, False, False])"
      ]
     },
     "execution_count": 38,
     "metadata": {},
     "output_type": "execute_result"
    }
   ],
   "source": [
    "arr_range = np.arange(5)\n",
    "arr_range < 3"
   ]
  },
  {
   "cell_type": "code",
   "execution_count": 60,
   "id": "7e82df1a-a8f7-4fbc-9b98-222cb756962b",
   "metadata": {},
   "outputs": [
    {
     "name": "stdout",
     "output_type": "stream",
     "text": [
      "arr_a:\n",
      " [[1 1]\n",
      " [1 0]]\n",
      "arr_b:\n",
      " [[2 0]\n",
      " [3 4]]\n",
      "arr_a + arr_b: \n",
      " [[3 1]\n",
      " [4 4]]\n",
      "arr_a * arr_b: \n",
      " [[2 0]\n",
      " [3 0]]\n",
      "arr_a @ arr_b: \n",
      " [[5 4]\n",
      " [2 0]]\n",
      "arr_a.dot(arr_b): \n",
      " [[5 4]\n",
      " [2 0]]\n"
     ]
    }
   ],
   "source": [
    "arr_a = np.array([[1,1],[1,0]])\n",
    "arr_b = np.array([[2,0],[3,4]])\n",
    "print('arr_a:\\n',arr_a)\n",
    "print('arr_b:\\n',arr_b)\n",
    "print('arr_a + arr_b: \\n', arr_a+arr_b)\n",
    "print('arr_a * arr_b: \\n', arr_a * arr_b) #逐元素相乘\n",
    "print('arr_a @ arr_b: \\n', arr_a @ arr_b) #矩阵相乘\n",
    "print('arr_a.dot(arr_b): \\n', arr_a.dot(arr_b)) #跟@的功能一样"
   ]
  },
  {
   "cell_type": "code",
   "execution_count": 57,
   "id": "51093ba5-6a1c-4ed4-9f90-381f26a0e6fd",
   "metadata": {},
   "outputs": [
    {
     "name": "stdout",
     "output_type": "stream",
     "text": [
      "数组： [0 1 2 3 4]\n",
      "求和： 10\n",
      "最小值： 0\n",
      "最大值： 4\n"
     ]
    }
   ],
   "source": [
    "arr_range = np.arange(5)\n",
    "print('数组：',arr_range)\n",
    "print('求和：',arr_range.sum())\n",
    "print('最小值：',arr_range.min())\n",
    "print('最大值：',arr_range.max())"
   ]
  },
  {
   "cell_type": "code",
   "execution_count": 73,
   "id": "dc7fb509-c0c4-4658-a525-9e2fea9468d5",
   "metadata": {},
   "outputs": [
    {
     "name": "stdout",
     "output_type": "stream",
     "text": [
      "arr_axis_sample:\n",
      "[[ 0  1  2  3  4]\n",
      " [ 5  6  7  8  9]\n",
      " [10 11 12 13 14]]\n",
      "axis = 0:\n",
      "[15 18 21 24 27]\n",
      "axis = 1:\n",
      "[10 35 60]\n",
      "min:\n",
      "0\n",
      "min(axis = 0):\n",
      "[0 1 2 3 4]\n"
     ]
    }
   ],
   "source": [
    "arr_axis_sample = np.arange(15).reshape(3,5)\n",
    "print('arr_axis_sample:')\n",
    "print(arr_axis_sample)\n",
    "print('axis = 0:')\n",
    "print(arr_axis_sample.sum(axis = 0))\n",
    "print('axis = 1:')\n",
    "print(arr_axis_sample.sum(axis = 1))\n",
    "print('min:')\n",
    "print(arr_axis_sample.min())\n",
    "print('min(axis = 0):')\n",
    "print(arr_axis_sample.min(axis = 0))"
   ]
  },
  {
   "cell_type": "code",
   "execution_count": 78,
   "id": "eeb2fce1-4c50-4614-b6c2-37ce8d5efa57",
   "metadata": {},
   "outputs": [
    {
     "name": "stdout",
     "output_type": "stream",
     "text": [
      "arr_arange:\n",
      "[ 0  1  2  3  4  5  6  7  8  9 10 11 12 13 14]\n",
      "arr_arange[2:5]:\n",
      "[2 3 4]\n",
      "arr_arange[:5:2]:\n",
      "[0 2 4]\n",
      "arr_arange[-1]:\n",
      "[14 13 12 11 10  9  8  7  6  5  4  3  2  1  0]\n"
     ]
    }
   ],
   "source": [
    "arr_arange = np.arange(15)\n",
    "print('arr_arange:')\n",
    "print(arr_arange)\n",
    "print('arr_arange[2:5]:')\n",
    "print(arr_arange[2:5])\n",
    "print('arr_arange[:5:2]:')\n",
    "print(arr_arange[:5:2])\n",
    "print('arr_arange[-1]:')\n",
    "print(arr_arange[::-1])"
   ]
  },
  {
   "cell_type": "code",
   "execution_count": 90,
   "id": "74371f54-8213-4a32-8f63-9e8e6d7b4a92",
   "metadata": {},
   "outputs": [
    {
     "name": "stdout",
     "output_type": "stream",
     "text": [
      "arr_arange_b:\n",
      "[[ 0  1  2  3  4]\n",
      " [ 5  6  7  8  9]\n",
      " [10 11 12 13 14]]\n",
      "arr_arange_b[0:2,1]:\n",
      "[1 6]\n",
      "arr_arange_b[:,1]:\n",
      "[ 1  6 11]\n",
      "for:\n",
      "[0 1 2 3 4]\n",
      "[5 6 7 8 9]\n",
      "[10 11 12 13 14]\n",
      "flat:\n",
      "0\n",
      "1\n",
      "2\n",
      "3\n",
      "4\n",
      "5\n",
      "6\n",
      "7\n",
      "8\n",
      "9\n",
      "10\n",
      "11\n",
      "12\n",
      "13\n",
      "14\n",
      "ravel():\n",
      "[ 0  1  2  3  4  5  6  7  8  9 10 11 12 13 14]\n"
     ]
    }
   ],
   "source": [
    "arr_arange_b = np.arange(15).reshape(3,5)\n",
    "print('arr_arange_b:')\n",
    "print(arr_arange_b)\n",
    "print('arr_arange_b[0:2,1]:')\n",
    "print(arr_arange_b[0:2,1])\n",
    "print('arr_arange_b[:,1]:')\n",
    "print(arr_arange_b[:,1])\n",
    "print('for:')\n",
    "for row in arr_arange_b:\n",
    "    print(row)\n",
    "print('flat:')\n",
    "for element in arr_arange_b.flat:\n",
    "    print(element)"
   ]
  },
  {
   "cell_type": "code",
   "execution_count": 101,
   "id": "408fa0a9-c360-43fd-ae4a-52cc87843b5c",
   "metadata": {},
   "outputs": [
    {
     "name": "stdout",
     "output_type": "stream",
     "text": [
      "arr_arange_c:\n",
      "[[ 0  1  2  3  4]\n",
      " [ 5  6  7  8  9]\n",
      " [10 11 12 13 14]]\n",
      "ravel():\n",
      "[ 0  1  2  3  4  5  6  7  8  9 10 11 12 13 14]\n",
      "T:\n",
      "[[ 0  5 10]\n",
      " [ 1  6 11]\n",
      " [ 2  7 12]\n",
      " [ 3  8 13]\n",
      " [ 4  9 14]]\n",
      "resize:\n",
      "[[ 0  1  2]\n",
      " [ 3  4  5]\n",
      " [ 6  7  8]\n",
      " [ 9 10 11]\n",
      " [12 13 14]]\n",
      "-1:\n",
      "[[ 0  1  2  3  4]\n",
      " [ 5  6  7  8  9]\n",
      " [10 11 12 13 14]]\n"
     ]
    }
   ],
   "source": [
    "arr_arange_c = np.arange(15).reshape(3,5)\n",
    "print('arr_arange_c:')\n",
    "print(arr_arange_c)\n",
    "print('ravel():')\n",
    "print(arr_arange_c.ravel())\n",
    "print('T:')\n",
    "print(arr_arange_c.T)\n",
    "print('resize:')\n",
    "arr_arange_c.resize((5,3))\n",
    "print(arr_arange_c)\n",
    "print('-1:')\n",
    "print(arr_arange_c.reshape(3,-1))"
   ]
  },
  {
   "cell_type": "code",
   "execution_count": 105,
   "id": "b12b4f03-b690-49ce-8ed2-fd85ca1ff749",
   "metadata": {},
   "outputs": [
    {
     "name": "stdout",
     "output_type": "stream",
     "text": [
      "arr_a:\n",
      "[[1 2]\n",
      " [3 4]]\n",
      "arr_b:\n",
      "[[5 6]\n",
      " [7 8]]\n",
      "vstack:\n",
      "[[1 2]\n",
      " [3 4]\n",
      " [5 6]\n",
      " [7 8]]\n",
      "hstack:\n",
      "[[1 2 5 6]\n",
      " [3 4 7 8]]\n"
     ]
    }
   ],
   "source": [
    "arr_a = np.array([[1,2],[3,4]])\n",
    "print('arr_a:')\n",
    "print(arr_a)\n",
    "arr_b = np.array([[5,6],[7,8]])\n",
    "print('arr_b:')\n",
    "print(arr_b)\n",
    "print('vstack:')\n",
    "print(np.vstack((arr_a,arr_b)))\n",
    "print('hstack:')\n",
    "print(np.hstack((arr_a,arr_b)))"
   ]
  },
  {
   "cell_type": "code",
   "execution_count": 107,
   "id": "388cea6c-3135-418a-9928-0de954658627",
   "metadata": {},
   "outputs": [
    {
     "name": "stdout",
     "output_type": "stream",
     "text": [
      "arr_a:\n",
      "[[1 2]\n",
      " [3 4]]\n",
      "arr_b:\n",
      "[[5 6]\n",
      " [7 8]]\n",
      "concatenate:\n",
      "[[1 2 5 6]\n",
      " [3 4 7 8]]\n"
     ]
    }
   ],
   "source": [
    "arr_a = np.array([[1,2],[3,4]])\n",
    "print('arr_a:')\n",
    "print(arr_a)\n",
    "arr_b = np.array([[5,6],[7,8]])\n",
    "print('arr_b:')\n",
    "print(arr_b)\n",
    "print('concatenate:')\n",
    "print(np.concatenate((arr_a,arr_b),axis = 1))"
   ]
  },
  {
   "cell_type": "code",
   "execution_count": 114,
   "id": "756f5b7f-5d3a-48ca-aaf9-24cdc1b72dd3",
   "metadata": {},
   "outputs": [
    {
     "name": "stdout",
     "output_type": "stream",
     "text": [
      "arr_arange_c:\n",
      "[[ 0  1  2  3  4]\n",
      " [ 5  6  7  8  9]\n",
      " [10 11 12 13 14]]\n",
      "hsplit:\n",
      "[array([[ 0],\n",
      "       [ 5],\n",
      "       [10]]), array([[ 1],\n",
      "       [ 6],\n",
      "       [11]]), array([[ 2],\n",
      "       [ 7],\n",
      "       [12]]), array([[ 3],\n",
      "       [ 8],\n",
      "       [13]]), array([[ 4],\n",
      "       [ 9],\n",
      "       [14]])]\n",
      "vsplit:\n",
      "[array([[0, 1, 2, 3, 4]]), array([[5, 6, 7, 8, 9]]), array([[10, 11, 12, 13, 14]])]\n"
     ]
    }
   ],
   "source": [
    "arr_arange_c = np.arange(15).reshape(3,5)\n",
    "print('arr_arange_c:')\n",
    "print(arr_arange_c)\n",
    "print('hsplit:')\n",
    "print(np.hsplit(arr_arange_c,5))\n",
    "print('vsplit:')\n",
    "print(np.vsplit(arr_arange_c,3))"
   ]
  },
  {
   "cell_type": "code",
   "execution_count": 123,
   "id": "1f305361-74e0-4e42-a221-69383500fe2c",
   "metadata": {},
   "outputs": [
    {
     "name": "stdout",
     "output_type": "stream",
     "text": [
      "arr_arange_c:\n",
      "[[ 0  1  2  3  4]\n",
      " [ 5  6  7  8  9]\n",
      " [10 11 12 13 14]]\n",
      "view:\n",
      "is:  False\n",
      "id:  False\n",
      "base:  False\n"
     ]
    }
   ],
   "source": [
    "arr_arange_c = np.arange(15).reshape(3,5)\n",
    "print('arr_arange_c:')\n",
    "print(arr_arange_c)\n",
    "arr_arange_d = arr_arange_c.view()\n",
    "print('view:')\n",
    "print('is: ',arr_arange_d is arr_arange_c)\n",
    "print('id: ', id(arr_arange_d) == id(arr_arange_c))\n",
    "print('base: ', arr_arange_d.base is arr_arange_c)"
   ]
  },
  {
   "cell_type": "code",
   "execution_count": null,
   "id": "28cb2f87-c13b-4fed-a437-3d10d14a5b1e",
   "metadata": {},
   "outputs": [],
   "source": []
  }
 ],
 "metadata": {
  "kernelspec": {
   "display_name": "Python 3 (ipykernel)",
   "language": "python",
   "name": "python3"
  },
  "language_info": {
   "codemirror_mode": {
    "name": "ipython",
    "version": 3
   },
   "file_extension": ".py",
   "mimetype": "text/x-python",
   "name": "python",
   "nbconvert_exporter": "python",
   "pygments_lexer": "ipython3",
   "version": "3.9.23"
  }
 },
 "nbformat": 4,
 "nbformat_minor": 5
}
